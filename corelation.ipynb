{
 "cells": [
  {
   "cell_type": "code",
   "execution_count": 1,
   "metadata": {
    "collapsed": true
   },
   "outputs": [],
   "source": [
    "import pandas as pd\n",
    "import networkx as nx\n",
    "%matplotlib inline "
   ]
  },
  {
   "cell_type": "code",
   "execution_count": 28,
   "metadata": {
    "collapsed": false
   },
   "outputs": [],
   "source": [
    "def authors_full(path):\n",
    "    authors = pd.read_csv(path + '/author-churn.csv', parse_dates=True, index_col='author')\n",
    "    authors = authors / authors.sum()\n",
    "\n",
    "    summary = pd.read_csv(path + '/summary.csv', parse_dates=True)\n",
    "    main_dev = pd.read_csv(path + '/main-dev.csv', parse_dates=True)\n",
    "    dev = main_dev[['main-dev', 'ownership']].groupby('main-dev').sum()  / summary['value'][2]\n",
    "    dev = dev / dev.sum()\n",
    "    dev = dev.reset_index()\n",
    "    dev.columns = ['author', 'ownership']\n",
    "    dev = dev.set_index('author')\n",
    "\n",
    "    communication = pd.read_csv('data/communication.csv')\n",
    "    G=nx.from_pandas_dataframe(communication, 'author', 'peer', ['strength'])\n",
    "    page_rank = pd.DataFrame.from_dict(nx.pagerank(G, weight='strength'), orient='index')\n",
    "    page_rank.columns = ['page_rank']\n",
    "\n",
    "    summary = pd.read_csv(path + '/summary.csv', parse_dates=True)\n",
    "    refactoring_main_dev = pd.read_csv(path + '/refactoring-main-dev.csv', parse_dates=True)\n",
    "    refactoring_dev = refactoring_main_dev[['main-dev', 'ownership']].groupby('main-dev').sum()  / summary['value'][2]\n",
    "    refactoring_dev = refactoring_dev / refactoring_dev.sum()\n",
    "    refactoring_dev = refactoring_dev.reset_index()\n",
    "    refactoring_dev.columns = ['author', 'refactoring_ownership']\n",
    "    refactoring_dev = refactoring_dev.set_index('author')\n",
    "\n",
    "    return pd.concat([dev, refactoring_dev, page_rank, authors], axis='author').fillna(0)"
   ]
  },
  {
   "cell_type": "code",
   "execution_count": 29,
   "metadata": {
    "collapsed": false
   },
   "outputs": [
    {
     "name": "stderr",
     "output_type": "stream",
     "text": [
      "/home/janisz/anaconda2/lib/python2.7/site-packages/networkx/generators/stochastic.py:56: UserWarning: zero out-degree for node Sagar Mehta\n",
      "  warnings.warn('zero out-degree for node %s' % u)\n",
      "/home/janisz/anaconda2/lib/python2.7/site-packages/networkx/generators/stochastic.py:56: UserWarning: zero out-degree for node Sebastian Geller\n",
      "  warnings.warn('zero out-degree for node %s' % u)\n",
      "/home/janisz/anaconda2/lib/python2.7/site-packages/networkx/generators/stochastic.py:56: UserWarning: zero out-degree for node gaopeng\n",
      "  warnings.warn('zero out-degree for node %s' % u)\n"
     ]
    },
    {
     "data": {
      "text/html": [
       "<div>\n",
       "<table border=\"1\" class=\"dataframe\">\n",
       "  <thead>\n",
       "    <tr style=\"text-align: right;\">\n",
       "      <th></th>\n",
       "      <th>ownership</th>\n",
       "      <th>refactoring_ownership</th>\n",
       "      <th>page_rank</th>\n",
       "      <th>added</th>\n",
       "      <th>deleted</th>\n",
       "      <th>commits</th>\n",
       "    </tr>\n",
       "  </thead>\n",
       "  <tbody>\n",
       "    <tr>\n",
       "      <th>ownership</th>\n",
       "      <td>1.000000</td>\n",
       "      <td>0.991027</td>\n",
       "      <td>-0.023155</td>\n",
       "      <td>0.982815</td>\n",
       "      <td>0.974970</td>\n",
       "      <td>0.995055</td>\n",
       "    </tr>\n",
       "    <tr>\n",
       "      <th>refactoring_ownership</th>\n",
       "      <td>0.991027</td>\n",
       "      <td>1.000000</td>\n",
       "      <td>-0.020705</td>\n",
       "      <td>0.976302</td>\n",
       "      <td>0.974796</td>\n",
       "      <td>0.993721</td>\n",
       "    </tr>\n",
       "    <tr>\n",
       "      <th>page_rank</th>\n",
       "      <td>-0.023155</td>\n",
       "      <td>-0.020705</td>\n",
       "      <td>1.000000</td>\n",
       "      <td>-0.023367</td>\n",
       "      <td>-0.019477</td>\n",
       "      <td>-0.022695</td>\n",
       "    </tr>\n",
       "    <tr>\n",
       "      <th>added</th>\n",
       "      <td>0.982815</td>\n",
       "      <td>0.976302</td>\n",
       "      <td>-0.023367</td>\n",
       "      <td>1.000000</td>\n",
       "      <td>0.984127</td>\n",
       "      <td>0.981833</td>\n",
       "    </tr>\n",
       "    <tr>\n",
       "      <th>deleted</th>\n",
       "      <td>0.974970</td>\n",
       "      <td>0.974796</td>\n",
       "      <td>-0.019477</td>\n",
       "      <td>0.984127</td>\n",
       "      <td>1.000000</td>\n",
       "      <td>0.983187</td>\n",
       "    </tr>\n",
       "    <tr>\n",
       "      <th>commits</th>\n",
       "      <td>0.995055</td>\n",
       "      <td>0.993721</td>\n",
       "      <td>-0.022695</td>\n",
       "      <td>0.981833</td>\n",
       "      <td>0.983187</td>\n",
       "      <td>1.000000</td>\n",
       "    </tr>\n",
       "  </tbody>\n",
       "</table>\n",
       "</div>"
      ],
      "text/plain": [
       "                       ownership  refactoring_ownership  page_rank     added  \\\n",
       "ownership               1.000000               0.991027  -0.023155  0.982815   \n",
       "refactoring_ownership   0.991027               1.000000  -0.020705  0.976302   \n",
       "page_rank              -0.023155              -0.020705   1.000000 -0.023367   \n",
       "added                   0.982815               0.976302  -0.023367  1.000000   \n",
       "deleted                 0.974970               0.974796  -0.019477  0.984127   \n",
       "commits                 0.995055               0.993721  -0.022695  0.981833   \n",
       "\n",
       "                        deleted   commits  \n",
       "ownership              0.974970  0.995055  \n",
       "refactoring_ownership  0.974796  0.993721  \n",
       "page_rank             -0.019477 -0.022695  \n",
       "added                  0.984127  0.981833  \n",
       "deleted                1.000000  0.983187  \n",
       "commits                0.983187  1.000000  "
      ]
     },
     "execution_count": 29,
     "metadata": {},
     "output_type": "execute_result"
    }
   ],
   "source": [
    "data_dir = 'data/repos/'\n",
    "authors_full(data_dir + 'golang/go').corr()"
   ]
  },
  {
   "cell_type": "code",
   "execution_count": 30,
   "metadata": {
    "collapsed": false
   },
   "outputs": [
    {
     "data": {
      "text/html": [
       "<div>\n",
       "<table border=\"1\" class=\"dataframe\">\n",
       "  <thead>\n",
       "    <tr style=\"text-align: right;\">\n",
       "      <th></th>\n",
       "      <th>ownership</th>\n",
       "      <th>refactoring_ownership</th>\n",
       "      <th>page_rank</th>\n",
       "      <th>added</th>\n",
       "      <th>deleted</th>\n",
       "      <th>commits</th>\n",
       "    </tr>\n",
       "  </thead>\n",
       "  <tbody>\n",
       "    <tr>\n",
       "      <th>ownership</th>\n",
       "      <td>1.000000</td>\n",
       "      <td>0.999671</td>\n",
       "      <td>-0.037384</td>\n",
       "      <td>0.999555</td>\n",
       "      <td>0.999526</td>\n",
       "      <td>0.996993</td>\n",
       "    </tr>\n",
       "    <tr>\n",
       "      <th>refactoring_ownership</th>\n",
       "      <td>0.999671</td>\n",
       "      <td>1.000000</td>\n",
       "      <td>-0.037875</td>\n",
       "      <td>0.999130</td>\n",
       "      <td>0.999171</td>\n",
       "      <td>0.996994</td>\n",
       "    </tr>\n",
       "    <tr>\n",
       "      <th>page_rank</th>\n",
       "      <td>-0.037384</td>\n",
       "      <td>-0.037875</td>\n",
       "      <td>1.000000</td>\n",
       "      <td>-0.038207</td>\n",
       "      <td>-0.036503</td>\n",
       "      <td>-0.048193</td>\n",
       "    </tr>\n",
       "    <tr>\n",
       "      <th>added</th>\n",
       "      <td>0.999555</td>\n",
       "      <td>0.999130</td>\n",
       "      <td>-0.038207</td>\n",
       "      <td>1.000000</td>\n",
       "      <td>0.999932</td>\n",
       "      <td>0.996552</td>\n",
       "    </tr>\n",
       "    <tr>\n",
       "      <th>deleted</th>\n",
       "      <td>0.999526</td>\n",
       "      <td>0.999171</td>\n",
       "      <td>-0.036503</td>\n",
       "      <td>0.999932</td>\n",
       "      <td>1.000000</td>\n",
       "      <td>0.995808</td>\n",
       "    </tr>\n",
       "    <tr>\n",
       "      <th>commits</th>\n",
       "      <td>0.996993</td>\n",
       "      <td>0.996994</td>\n",
       "      <td>-0.048193</td>\n",
       "      <td>0.996552</td>\n",
       "      <td>0.995808</td>\n",
       "      <td>1.000000</td>\n",
       "    </tr>\n",
       "  </tbody>\n",
       "</table>\n",
       "</div>"
      ],
      "text/plain": [
       "                       ownership  refactoring_ownership  page_rank     added  \\\n",
       "ownership               1.000000               0.999671  -0.037384  0.999555   \n",
       "refactoring_ownership   0.999671               1.000000  -0.037875  0.999130   \n",
       "page_rank              -0.037384              -0.037875   1.000000 -0.038207   \n",
       "added                   0.999555               0.999130  -0.038207  1.000000   \n",
       "deleted                 0.999526               0.999171  -0.036503  0.999932   \n",
       "commits                 0.996993               0.996994  -0.048193  0.996552   \n",
       "\n",
       "                        deleted   commits  \n",
       "ownership              0.999526  0.996993  \n",
       "refactoring_ownership  0.999171  0.996994  \n",
       "page_rank             -0.036503 -0.048193  \n",
       "added                  0.999932  0.996552  \n",
       "deleted                1.000000  0.995808  \n",
       "commits                0.995808  1.000000  "
      ]
     },
     "execution_count": 30,
     "metadata": {},
     "output_type": "execute_result"
    }
   ],
   "source": [
    "authors_full(data_dir + 'apache/mesos').corr()"
   ]
  },
  {
   "cell_type": "code",
   "execution_count": null,
   "metadata": {
    "collapsed": true
   },
   "outputs": [],
   "source": []
  }
 ],
 "metadata": {
  "kernelspec": {
   "display_name": "Python 2",
   "language": "python",
   "name": "python2"
  },
  "language_info": {
   "codemirror_mode": {
    "name": "ipython",
    "version": 2
   },
   "file_extension": ".py",
   "mimetype": "text/x-python",
   "name": "python",
   "nbconvert_exporter": "python",
   "pygments_lexer": "ipython2",
   "version": "2.7.11"
  }
 },
 "nbformat": 4,
 "nbformat_minor": 0
}
