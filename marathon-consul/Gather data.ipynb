{
 "cells": [
  {
   "cell_type": "markdown",
   "metadata": {},
   "source": [
    "# Gather data\n",
    "## Clone repo "
   ]
  },
  {
   "cell_type": "code",
   "execution_count": 9,
   "metadata": {
    "collapsed": false
   },
   "outputs": [
    {
     "name": "stdout",
     "output_type": "stream",
     "text": []
    }
   ],
   "source": [
    "export PATH=$PWD/../bin:$PATH"
   ]
  },
  {
   "cell_type": "code",
   "execution_count": 1,
   "metadata": {
    "collapsed": false
   },
   "outputs": [
    {
     "name": "stdout",
     "output_type": "stream",
     "text": [
      "Cloning into 'marathon-consul'...\r\n",
      "remote: Counting objects: 779, done.\u001b[K\r\n",
      "Receiving objects:   0% (1/779)   \r",
      "Receiving objects:   1% (8/779)   \r",
      "Receiving objects:   2% (16/779)   \r",
      "Receiving objects:   3% (24/779)   \r",
      "Receiving objects:   4% (32/779)   \r",
      "Receiving objects:   5% (39/779)   \r",
      "Receiving objects:   6% (47/779)   \r",
      "Receiving objects:   7% (55/779)   \r",
      "Receiving objects:   8% (63/779)   \r",
      "Receiving objects:   9% (71/779)   \r",
      "Receiving objects:  10% (78/779)   \r",
      "Receiving objects:  11% (86/779)   \r",
      "Receiving objects:  12% (94/779)   \r",
      "Receiving objects:  13% (102/779)   \r",
      "Receiving objects:  14% (110/779)   \r",
      "Receiving objects:  15% (117/779)   \r",
      "Receiving objects:  16% (125/779)   \r",
      "Receiving objects:  17% (133/779)   \r",
      "Receiving objects:  18% (141/779)   \r",
      "Receiving objects:  19% (149/779)   \r",
      "Receiving objects:  20% (156/779)   \r",
      "Receiving objects:  21% (164/779)   \r",
      "Receiving objects:  22% (172/779)   \r",
      "Receiving objects:  23% (180/779)   \r",
      "Receiving objects:  24% (187/779)   \r",
      "Receiving objects:  25% (195/779)   \r",
      "Receiving objects:  26% (203/779)   \r",
      "Receiving objects:  27% (211/779)   \r",
      "Receiving objects:  28% (219/779)   \r",
      "Receiving objects:  29% (226/779)   \r",
      "Receiving objects:  30% (234/779)   \r",
      "Receiving objects:  31% (242/779)   \r",
      "Receiving objects:  32% (250/779)   \r",
      "Receiving objects:  33% (258/779)   \r",
      "Receiving objects:  34% (265/779)   \r",
      "Receiving objects:  35% (273/779)   \r",
      "Receiving objects:  36% (281/779)   \r",
      "Receiving objects:  37% (289/779)   \r",
      "Receiving objects:  38% (297/779)   \r",
      "Receiving objects:  39% (304/779)   \r",
      "Receiving objects:  40% (312/779)   \r",
      "Receiving objects:  41% (320/779)   \r",
      "Receiving objects:  42% (328/779)   \r",
      "Receiving objects:  43% (335/779)   \r",
      "Receiving objects:  44% (343/779)   \r",
      "Receiving objects:  45% (351/779)   \r",
      "Receiving objects:  46% (359/779)   \r",
      "Receiving objects:  47% (367/779)   \r",
      "Receiving objects:  48% (374/779)   \r",
      "Receiving objects:  49% (382/779)   \r",
      "Receiving objects:  50% (390/779)   \r",
      "Receiving objects:  51% (398/779)   \r",
      "Receiving objects:  52% (406/779)   \r",
      "Receiving objects:  53% (413/779)   \r",
      "Receiving objects:  54% (421/779)   \r",
      "Receiving objects:  55% (429/779)   \r",
      "Receiving objects:  56% (437/779)   \r",
      "Receiving objects:  57% (445/779)   \r",
      "Receiving objects:  58% (452/779)   \r",
      "Receiving objects:  59% (460/779)   \r",
      "Receiving objects:  60% (468/779)   \r",
      "Receiving objects:  61% (476/779)   \r",
      "Receiving objects:  62% (483/779)   \r",
      "Receiving objects:  63% (491/779)   \r",
      "Receiving objects:  64% (499/779)   \r",
      "Receiving objects:  65% (507/779)   \r",
      "Receiving objects:  66% (515/779)   \r",
      "Receiving objects:  67% (522/779)   \r",
      "Receiving objects:  68% (530/779)   \r",
      "Receiving objects:  69% (538/779)   \r",
      "Receiving objects:  70% (546/779)   \r",
      "Receiving objects:  71% (554/779)   \r",
      "Receiving objects:  72% (561/779)   \r",
      "remote: Total 779 (delta 0), reused 0 (delta 0), pack-reused 779\u001b[K\r\n",
      "Receiving objects:  73% (569/779)   \r",
      "Receiving objects:  74% (577/779)   \r",
      "Receiving objects:  75% (585/779)   \r",
      "Receiving objects:  76% (593/779)   \r",
      "Receiving objects:  77% (600/779)   \r",
      "Receiving objects:  78% (608/779)   \r",
      "Receiving objects:  79% (616/779)   \r",
      "Receiving objects:  80% (624/779)   \r",
      "Receiving objects:  81% (631/779)   \r",
      "Receiving objects:  82% (639/779)   \r",
      "Receiving objects:  83% (647/779)   \r",
      "Receiving objects:  84% (655/779)   \r",
      "Receiving objects:  85% (663/779)   \r",
      "Receiving objects:  86% (670/779)   \r",
      "Receiving objects:  87% (678/779)   \r",
      "Receiving objects:  88% (686/779)   \r",
      "Receiving objects:  89% (694/779)   \r",
      "Receiving objects:  90% (702/779)   \r",
      "Receiving objects:  91% (709/779)   \r",
      "Receiving objects:  92% (717/779)   \r",
      "Receiving objects:  93% (725/779)   \r",
      "Receiving objects:  94% (733/779)   \r",
      "Receiving objects:  95% (741/779)   \r",
      "Receiving objects:  96% (748/779)   \r",
      "Receiving objects:  97% (756/779)   \r",
      "Receiving objects:  98% (764/779)   \r",
      "Receiving objects:  99% (772/779)   \r",
      "Receiving objects: 100% (779/779)   \r",
      "Receiving objects: 100% (779/779), 163.05 KiB | 0 bytes/s, done.\r\n",
      "Resolving deltas:   0% (0/446)   \r",
      "Resolving deltas:   3% (14/446)   \r",
      "Resolving deltas:   4% (20/446)   \r",
      "Resolving deltas:   6% (29/446)   \r",
      "Resolving deltas:   8% (40/446)   \r",
      "Resolving deltas:   9% (41/446)   \r",
      "Resolving deltas:  10% (46/446)   \r",
      "Resolving deltas:  11% (50/446)   \r",
      "Resolving deltas:  13% (59/446)   \r",
      "Resolving deltas:  14% (63/446)   \r",
      "Resolving deltas:  15% (67/446)   \r",
      "Resolving deltas:  16% (73/446)   \r",
      "Resolving deltas:  18% (84/446)   \r",
      "Resolving deltas:  20% (93/446)   \r",
      "Resolving deltas:  21% (96/446)   \r",
      "Resolving deltas:  22% (99/446)   \r",
      "Resolving deltas:  23% (105/446)   \r",
      "Resolving deltas:  25% (113/446)   \r",
      "Resolving deltas:  27% (123/446)   \r",
      "Resolving deltas:  29% (132/446)   \r",
      "Resolving deltas:  30% (134/446)   \r",
      "Resolving deltas:  32% (143/446)   \r",
      "Resolving deltas:  33% (148/446)   \r",
      "Resolving deltas:  34% (152/446)   \r",
      "Resolving deltas:  35% (159/446)   \r",
      "Resolving deltas:  37% (167/446)   \r",
      "Resolving deltas:  39% (176/446)   \r",
      "Resolving deltas:  40% (179/446)   \r",
      "Resolving deltas:  41% (183/446)   \r",
      "Resolving deltas:  42% (188/446)   \r",
      "Resolving deltas:  43% (193/446)   \r",
      "Resolving deltas:  44% (197/446)   \r",
      "Resolving deltas:  45% (202/446)   \r",
      "Resolving deltas:  47% (210/446)   \r",
      "Resolving deltas:  49% (219/446)   \r",
      "Resolving deltas:  52% (235/446)   \r",
      "Resolving deltas:  57% (256/446)   \r",
      "Resolving deltas:  58% (261/446)   \r",
      "Resolving deltas:  59% (264/446)   \r",
      "Resolving deltas:  62% (277/446)   \r",
      "Resolving deltas:  68% (305/446)   \r",
      "Resolving deltas:  69% (308/446)   \r",
      "Resolving deltas:  70% (315/446)   \r",
      "Resolving deltas:  71% (318/446)   \r",
      "Resolving deltas:  72% (324/446)   \r",
      "Resolving deltas:  74% (332/446)   \r",
      "Resolving deltas:  75% (337/446)   \r",
      "Resolving deltas:  76% (339/446)   \r",
      "Resolving deltas:  77% (345/446)   \r",
      "Resolving deltas:  78% (351/446)   \r",
      "Resolving deltas:  80% (359/446)   \r",
      "Resolving deltas:  82% (366/446)   \r",
      "Resolving deltas:  84% (379/446)   \r",
      "Resolving deltas:  88% (393/446)   \r",
      "Resolving deltas:  92% (413/446)   \r",
      "Resolving deltas:  93% (415/446)   \r",
      "Resolving deltas:  95% (426/446)   \r",
      "Resolving deltas:  96% (429/446)   \r",
      "Resolving deltas:  98% (438/446)   \r",
      "Resolving deltas: 100% (446/446)   \r",
      "Resolving deltas: 100% (446/446), done.\r\n",
      "Checking connectivity... done.\r\n"
     ]
    }
   ],
   "source": [
    "git clone https://github.com/allegro/marathon-consul"
   ]
  },
  {
   "cell_type": "markdown",
   "metadata": {},
   "source": [
    "## Generate logfile with `git`"
   ]
  },
  {
   "cell_type": "code",
   "execution_count": 2,
   "metadata": {
    "collapsed": false
   },
   "outputs": [
    {
     "name": "stdout",
     "output_type": "stream",
     "text": []
    }
   ],
   "source": [
    "cd marathon-consul"
   ]
  },
  {
   "cell_type": "code",
   "execution_count": 20,
   "metadata": {
    "collapsed": false
   },
   "outputs": [
    {
     "name": "stdout",
     "output_type": "stream",
     "text": []
    }
   ],
   "source": [
    "git log --pretty=format:'[%h] %an %ad %s' --date=short --numstat > ../evo.log && cd .."
   ]
  },
  {
   "cell_type": "code",
   "execution_count": 21,
   "metadata": {
    "collapsed": false
   },
   "outputs": [
    {
     "name": "stdout",
     "output_type": "stream",
     "text": [
      "[032eedd] janisz 2015-12-17 Merge pull request #17 from allegro/destringify\r\n",
      "[f303aee] Tomasz Janiszewski 2015-12-16 Create alias types for Id\r\n",
      "3\t7\t.travis.yml\r\n",
      "1\t1\tapps/app.go\r\n",
      "5\t4\tconsul/consul.go\r\n",
      "9\t7\tconsul/consul_stub.go\r\n",
      "2\t8\tconsul/services.go\r\n",
      "4\t3\tevents/events.go\r\n",
      "7\t6\tevents/task_health_change.go\r\n",
      "7\t7\tmarathon/marathon.go\r\n"
     ]
    }
   ],
   "source": [
    "head evo.log "
   ]
  },
  {
   "cell_type": "code",
   "execution_count": 23,
   "metadata": {
    "collapsed": false,
    "scrolled": true
   },
   "outputs": [
    {
     "name": "stdout",
     "output_type": "stream",
     "text": [
      "WARNING: update already refers to: #'clojure.core/update in namespace: incanter.core, being replaced by: #'incanter.core/update\r\n",
      "WARNING: update already refers to: #'clojure.core/update in namespace: incanter.core, being replaced by: #'incanter.core/update\r\n",
      "WARNING: update already refers to: #'clojure.core/update in namespace: incanter.core, being replaced by: #'incanter.core/update\r\n",
      "WARNING: update already refers to: #'clojure.core/update in namespace: incanter.core, being replaced by: #'incanter.core/update\r\n",
      "WARNING: update already refers to: #'clojure.core/update in namespace: incanter.core, being replaced by: #'incanter.core/update\r\n",
      "WARNING: update already refers to: #'clojure.core/update in namespace: incanter.core, being replaced by: #'incanter.core/update\r\n",
      "WARNING: update already refers to: #'clojure.core/update in namespace: incanter.core, being replaced by: #'incanter.core/update\r\n",
      "WARNING: update already refers to: #'clojure.core/update in namespace: incanter.core, being replaced by: #'incanter.core/update\r\n",
      "WARNING: update already refers to: #'clojure.core/update in namespace: incanter.core, being replaced by: #'incanter.core/update\r\n",
      "WARNING: update already refers to: #'clojure.core/update in namespace: incanter.core, being replaced by: #'incanter.core/update\r\n",
      "WARNING: update already refers to: #'clojure.core/update in namespace: incanter.core, being replaced by: #'incanter.core/update\r\n",
      "WARNING: update already refers to: #'clojure.core/update in namespace: incanter.core, being replaced by: #'incanter.core/update\r\n",
      "WARNING: update already refers to: #'clojure.core/update in namespace: incanter.core, being replaced by: #'incanter.core/update\r\n",
      "WARNING: update already refers to: #'clojure.core/update in namespace: incanter.core, being replaced by: #'incanter.core/update\r\n",
      "WARNING: update already refers to: #'clojure.core/update in namespace: incanter.core, being replaced by: #'incanter.core/update\r\n",
      "WARNING: update already refers to: #'clojure.core/update in namespace: incanter.core, being replaced by: #'incanter.core/update\r\n",
      "WARNING: update already refers to: #'clojure.core/update in namespace: incanter.core, being replaced by: #'incanter.core/update\r\n",
      "WARNING: update already refers to: #'clojure.core/update in namespace: incanter.core, being replaced by: #'incanter.core/update\r\n"
     ]
    }
   ],
   "source": [
    "types=( \\\n",
    "  \"abs-churn\" \\\n",
    "  \"age\" \\\n",
    "  \"author-churn\" \\\n",
    "  \"authors\" \\\n",
    "  \"communication\" \\\n",
    "  \"coupling\" \\\n",
    "  \"entity-churn\" \\\n",
    "  \"entity-effort\" \\\n",
    "  \"entity-ownership\" \\\n",
    "  \"fragmentation\" \\\n",
    "  \"identity\" \\\n",
    "  \"main-dev\" \\\n",
    "  \"main-dev-by-revs\" \\\n",
    "  \"messages\" \\\n",
    "  \"refactoring-main-dev\" \\\n",
    "  \"revisions\" \\\n",
    "  \"soc\" \\\n",
    "  \"summary\" \\\n",
    ")\n",
    "\n",
    "for type in \"${types[@]}\"; do\n",
    "  ../bin/code-maat evo.log -l evo.log -c git -a $type > $type.csv \n",
    "done;"
   ]
  }
 ],
 "metadata": {
  "kernelspec": {
   "display_name": "Bash",
   "language": "bash",
   "name": "bash"
  },
  "language_info": {
   "codemirror_mode": "shell",
   "file_extension": ".sh",
   "mimetype": "text/x-sh",
   "name": "bash"
  }
 },
 "nbformat": 4,
 "nbformat_minor": 0
}
